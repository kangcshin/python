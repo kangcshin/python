{
 "cells": [
  {
   "cell_type": "code",
   "execution_count": 1,
   "metadata": {
    "collapsed": true
   },
   "outputs": [],
   "source": [
    "import tweepy\n",
    "from textblob import TextBlob"
   ]
  },
  {
   "cell_type": "code",
   "execution_count": 2,
   "metadata": {
    "collapsed": true
   },
   "outputs": [],
   "source": [
    "consumer_key = \t'cbk0LjZM1THbmPVTIeZ9bKnRc'\n",
    "consumer_secret = '8a3mp9wETyY9qVACKSBgt0Y0YLUHCQmb0MYoBdEAVdHsBAndwT'\n",
    "\n",
    "access_token = '772054924054192128-H3gbyfiR0SKZXT2f2Y9xJiC9ecKgemo'\n",
    "access_token_secret = 'oNyV04df2lUTseBGt6q7uNeAXGlOiCgSU6zfZbPbfsqn8'"
   ]
  },
  {
   "cell_type": "code",
   "execution_count": 3,
   "metadata": {
    "collapsed": true
   },
   "outputs": [],
   "source": [
    "auth = tweepy.OAuthHandler(consumer_key, consumer_secret)\n",
    "auth.set_access_token(access_token, access_token_secret)"
   ]
  },
  {
   "cell_type": "code",
   "execution_count": 4,
   "metadata": {
    "collapsed": true
   },
   "outputs": [],
   "source": [
    "api = tweepy.API(auth)"
   ]
  },
  {
   "cell_type": "code",
   "execution_count": 5,
   "metadata": {
    "collapsed": true
   },
   "outputs": [],
   "source": [
    "public_tweets = api.search('love')"
   ]
  },
  {
   "cell_type": "code",
   "execution_count": 10,
   "metadata": {},
   "outputs": [
    {
     "name": "stdout",
     "output_type": "stream",
     "text": [
      "I love these two 💙 https://t.co/4AXfeDpD0L\n",
      "Sentiment(polarity=0.5, subjectivity=0.6) \n",
      "\n",
      "==================================\n",
      "My best friend is the most freaking talented person I know and I love him so much!!!! Ugh so proud of you nugget!!!… https://t.co/UZrTQGt4z3\n",
      "Sentiment(polarity=0.6647135416666666, subjectivity=0.5833333333333334) \n",
      "\n",
      "==================================\n",
      "RT @taegidimples: Anyway I love being ot7 &amp; being excited over every twitter post, every song, every fancafe update, every Bangtan Bomb, ev…\n",
      "Sentiment(polarity=0.4375, subjectivity=0.675) \n",
      "\n",
      "==================================\n",
      "RT @TellyTalkIndia: Here's new bridal look of @hellyshah from #Swaragini .\n",
      "RT 🔁 if you love it https://t.co/fndvg2r2LK\n",
      "Sentiment(polarity=0.3181818181818182, subjectivity=0.5272727272727272) \n",
      "\n",
      "==================================\n",
      "RT @pipertaetae: i love when he always :]\n",
      "\n",
      "#iHeartAwards #BestFanArmy #BTSARMY @BTS_twt https://t.co/qOr0FeRQdH\n",
      "Sentiment(polarity=0.5, subjectivity=0.8) \n",
      "\n",
      "==================================\n",
      "RT @JheneAiko: i love it here 😍 #Tokyo https://t.co/fyzEKbSimG\n",
      "Sentiment(polarity=0.5, subjectivity=0.6) \n",
      "\n",
      "==================================\n",
      "RT @gunijimini: [기사] “태태의 미모는 열일 중”... 방탄소년단(BTS) 뷔, ‘LOVE MYSELF’ 마지막 단독샷 주인공\n",
      "https://t.co/lyLSW10eER\n",
      "#iHeartAwards #BestFanArmy #BTSARMY…\n",
      "Sentiment(polarity=-0.125, subjectivity=0.8) \n",
      "\n",
      "==================================\n",
      "@Jakafe I love it though...\n",
      "Sentiment(polarity=0.5, subjectivity=0.6) \n",
      "\n",
      "==================================\n",
      "RT @prxpglitter: I just can’t love anybody.\n",
      "Sentiment(polarity=0.5, subjectivity=0.6) \n",
      "\n",
      "==================================\n",
      "I love you @ArielandAiian31 😘 https://t.co/wNP0Freddb\n",
      "Sentiment(polarity=0.5, subjectivity=0.6) \n",
      "\n",
      "==================================\n",
      "RT @sonnyjohnson32: Outstanding scouting report today  @ReggieLewis_12 We are so lucky to have you at https://t.co/jEeHUnU8vK you brother.…\n",
      "Sentiment(polarity=0.41666666666666663, subjectivity=0.8541666666666667) \n",
      "\n",
      "==================================\n",
      "RT @BrentRivera: Confessing my love..❤️ https://t.co/KBG2uRUeTr\n",
      "Sentiment(polarity=0.0, subjectivity=0.0) \n",
      "\n",
      "==================================\n",
      "RT @GraysonDolan: My car is broken down and I’m stuck af right now love this\n",
      "Sentiment(polarity=0.05753968253968253, subjectivity=0.4561507936507937) \n",
      "\n",
      "==================================\n",
      "My heart is so full. I love these kids and I am so proud of them. Come see this show! ❤️ https://t.co/k0XWU67sP7\n",
      "Sentiment(polarity=0.6166666666666667, subjectivity=0.7166666666666667) \n",
      "\n",
      "==================================\n",
      "i miss all my friends at monmouth and would love if i could just teleport there with about 10 bottles of vodka and tequila\n",
      "Sentiment(polarity=0.5, subjectivity=0.6) \n",
      "\n",
      "==================================\n"
     ]
    }
   ],
   "source": [
    "for tweet in public_tweets:\n",
    "    print(tweet.text)\n",
    "    analysis = TextBlob(tweet.text)\n",
    "    print(analysis.sentiment,'\\n')\n",
    "    print('==================================')"
   ]
  },
  {
   "cell_type": "code",
   "execution_count": null,
   "metadata": {
    "collapsed": true
   },
   "outputs": [],
   "source": []
  }
 ],
 "metadata": {
  "kernelspec": {
   "display_name": "Python 3",
   "language": "python",
   "name": "python3"
  },
  "language_info": {
   "codemirror_mode": {
    "name": "ipython",
    "version": 3
   },
   "file_extension": ".py",
   "mimetype": "text/x-python",
   "name": "python",
   "nbconvert_exporter": "python",
   "pygments_lexer": "ipython3",
   "version": "3.6.3"
  }
 },
 "nbformat": 4,
 "nbformat_minor": 2
}
